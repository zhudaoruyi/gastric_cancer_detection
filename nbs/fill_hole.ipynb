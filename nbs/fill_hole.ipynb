{
 "cells": [
  {
   "cell_type": "code",
   "execution_count": 2,
   "metadata": {},
   "outputs": [
    {
     "name": "stderr",
     "output_type": "stream",
     "text": [
      "560it [00:33, 18.44it/s]\n"
     ]
    }
   ],
   "source": [
    "import os\n",
    "import cv2\n",
    "import glob\n",
    "from tqdm import tqdm\n",
    "import numpy as np\n",
    "from PIL import Image\n",
    "\n",
    "base_path = '/atlas/home/zwpeng/datadreams/data/'\n",
    "mask_path = 'mask/'\n",
    "new_mask_path = 'mask_new/'\n",
    "\n",
    "mask_set = glob.glob(os.path.join(base_path,mask_path,'*.png'))\n",
    "\n",
    "for i,value in tqdm(enumerate(mask_set)):\n",
    "    gray = np.array(Image.open(mask_set[i]))\n",
    "    _, contours, _ = cv2.findContours(gray, cv2.RETR_EXTERNAL, cv2.CHAIN_APPROX_SIMPLE)\n",
    "    drawing = np.zeros(gray.shape,np.uint8)\n",
    "    cv2.drawContours(drawing, contours,-1,(255,255,255),-1)\n",
    "    cv2.imwrite(mask_set[i].split('/')[-1]+'.jpg',drawing)"
   ]
  }
 ],
 "metadata": {
  "kernelspec": {
   "display_name": "Python 3",
   "language": "python",
   "name": "python3"
  },
  "language_info": {
   "codemirror_mode": {
    "name": "ipython",
    "version": 3
   },
   "file_extension": ".py",
   "mimetype": "text/x-python",
   "name": "python",
   "nbconvert_exporter": "python",
   "pygments_lexer": "ipython3",
   "version": "3.5.2"
  }
 },
 "nbformat": 4,
 "nbformat_minor": 2
}
